{
  "nbformat": 4,
  "nbformat_minor": 0,
  "metadata": {
    "colab": {
      "provenance": [],
      "authorship_tag": "ABX9TyPxYTzkanFX/E29S3TjNrqY",
      "include_colab_link": true
    },
    "kernelspec": {
      "name": "python3",
      "display_name": "Python 3"
    },
    "language_info": {
      "name": "python"
    }
  },
  "cells": [
    {
      "cell_type": "markdown",
      "metadata": {
        "id": "view-in-github",
        "colab_type": "text"
      },
      "source": [
        "<a href=\"https://colab.research.google.com/github/Aditya-titus/Machine-learning/blob/main/Neural_network_cw.ipynb\" target=\"_parent\"><img src=\"https://colab.research.google.com/assets/colab-badge.svg\" alt=\"Open In Colab\"/></a>"
      ]
    },
    {
      "cell_type": "markdown",
      "source": [
        "# **Neural Network**"
      ],
      "metadata": {
        "id": "LxWWvZL9aZel"
      }
    },
    {
      "cell_type": "markdown",
      "source": [
        "### Importing functions"
      ],
      "metadata": {
        "id": "6Wk6hJpYbi9i"
      }
    },
    {
      "cell_type": "code",
      "source": [
        "import numpy as np\n",
        "import pandas as pd\n",
        "import matplotlib.pyplot as plt\n",
        "import time\n",
        "from sklearn.model_selection import train_test_split\n",
        "from sklearn.preprocessing import StandardScaler\n",
        "from tensorflow.keras.models import Sequential\n",
        "from tensorflow.keras.layers import Dense\n",
        "from tensorflow.keras.utils import *\n",
        "from google.colab import drive, files"
      ],
      "metadata": {
        "id": "kzNgSLKVbqCi"
      },
      "execution_count": 31,
      "outputs": []
    },
    {
      "cell_type": "markdown",
      "source": [
        "### Reading files and extracting data"
      ],
      "metadata": {
        "id": "_Svk98-ZtwkI"
      }
    },
    {
      "cell_type": "code",
      "source": [
        "# Reading file\n",
        "\n",
        "drive.mount('/content/gdrive')\n",
        "data = pd.read_csv('/content/gdrive/MyDrive/Colab Notebooks/dataset1.csv')\n",
        "\n",
        "# Reading dataset and separating input features (X) and target labels (y)\n",
        "X = data.iloc[:, :-1]  # Input features\n",
        "y = data.iloc[:, -1]   # Target labels (1 for hitting, 0 for missing)\n",
        "\n",
        "\n",
        "# Finding scaling parameters using mean and standard deviation and storing a numpy array\n",
        "mean = X.mean()\n",
        "std = X.std()\n",
        "\n",
        "# COnverting to a 2 x 6 numpy array\n",
        "scale_array = np.vstack((mean, std))\n",
        "\n",
        "# Save the features array using np.savetxt\n",
        "np.savetxt('/content/gdrive/MyDrive/Colab Notebooks/AT2720-1.txt', scale_array)"
      ],
      "metadata": {
        "colab": {
          "base_uri": "https://localhost:8080/"
        },
        "id": "KGmmvQG1bu0N",
        "outputId": "1157a268-4ade-40bf-9519-0e4178d2b76b"
      },
      "execution_count": 32,
      "outputs": [
        {
          "output_type": "stream",
          "name": "stdout",
          "text": [
            "Drive already mounted at /content/gdrive; to attempt to forcibly remount, call drive.mount(\"/content/gdrive\", force_remount=True).\n"
          ]
        }
      ]
    },
    {
      "cell_type": "markdown",
      "source": [
        "### Defining training sets and applying scaling to data"
      ],
      "metadata": {
        "id": "qLg2OYeYtvNM"
      }
    },
    {
      "cell_type": "code",
      "source": [
        "# Load scaling parameters from the saved text file\n",
        "scale_array = np.loadtxt('/content/gdrive/MyDrive/Colab Notebooks/AT2720-1.txt')\n",
        "\n",
        "# Applying scaling to the dataset\n",
        "X_array = X.values\n",
        "\n",
        "print(scale_array)\n",
        "\n",
        "X_scaled = (X_array - scale_array[0])/scale_array[1]\n",
        "y_array = y.values"
      ],
      "metadata": {
        "colab": {
          "base_uri": "https://localhost:8080/"
        },
        "id": "ZX57QrrenQWa",
        "outputId": "d04acb6f-6a92-4c80-c075-7a147b99a1b8"
      },
      "execution_count": 33,
      "outputs": [
        {
          "output_type": "stream",
          "name": "stdout",
          "text": [
            "[[2.99790586e-01 3.10500234e-01 1.61670426e+02 1.88135000e+01\n",
            "  2.84024574e+02 4.27726820e+00]\n",
            " [9.83924728e-02 9.97600486e-02 8.83980565e+01 4.82435021e+00\n",
            "  1.37933777e+02 2.21237117e+00]]\n"
          ]
        }
      ]
    },
    {
      "cell_type": "markdown",
      "source": [
        "### Defining training and testing dataset"
      ],
      "metadata": {
        "id": "cNocFxI49lUg"
      }
    },
    {
      "cell_type": "code",
      "source": [
        "# Split the data into train and test sets\n",
        "X_train, X_test, y_train, y_test = train_test_split(X_scaled, y_array, test_size=0.2, random_state=42)\n",
        "\n",
        "# Convert labels to categorical\n",
        "y_train_binary = to_categorical(y_train)\n",
        "y_test_binary = to_categorical(y_test)"
      ],
      "metadata": {
        "id": "8I8fGZiB9o6p"
      },
      "execution_count": 34,
      "outputs": []
    },
    {
      "cell_type": "markdown",
      "source": [
        "### Code to find the Optimal Neural Network to this dataset and the time taken"
      ],
      "metadata": {
        "id": "UQkoMuBh9LYT"
      }
    },
    {
      "cell_type": "code",
      "source": [
        "# Define a function to create and compile the model\n",
        "def create_model(units, activation, input_dim):\n",
        "    model = Sequential()\n",
        "    model.add(Dense(units=units, activation='relu', input_dim=input_dim))\n",
        "    model.add(Dense(units=units/2, activation=activation))\n",
        "    model.add(Dense(units=2, activation='sigmoid'))\n",
        "    model.compile(loss='categorical_crossentropy', optimizer='adam', metrics=['accuracy'])\n",
        "    return model\n",
        "\n",
        "\n",
        "# Define hyperparameters\n",
        "units_list = [6,12] # nodes\n",
        "activations = ['relu', 'softmax', 'tanh', 'softplus', 'sigmoid']\n",
        "\n",
        "# Store results (accuracy, model)\n",
        "results = []\n",
        "\n",
        "# Iterate through hyperparameters\n",
        "for units in units_list:\n",
        "    for activation in activations:\n",
        "        # Calculating time to implement the model\n",
        "        st = time.time()\n",
        "        # Create and compile the model\n",
        "        model = create_model(units, activation, X_train.shape[1])\n",
        "\n",
        "        # Train the model\n",
        "        model.fit(X_train, y_train_binary, epochs=50, batch_size=32, verbose=0)\n",
        "\n",
        "        et = time.time()\n",
        "\n",
        "        # Evaluate the model\n",
        "        _, accuracy = model.evaluate(X_test, y_test_binary, verbose=0)\n",
        "\n",
        "        # Store the results\n",
        "        results.append((units, activation, accuracy, model))\n",
        "\n",
        "        # Print the accuracy for each configuration\n",
        "        print(f\"Units: {units}, Activation: {activation}, Accuracy: {accuracy}, Time: {et-st} ms\")\n",
        "\n",
        "# Find the best configuration and accuracy\n",
        "best_config = max(results, key=lambda x: x[2])\n",
        "best_units, best_activation, best_accuracy, best_model = best_config\n",
        "\n",
        "# Print the best configuration and accuracy\n",
        "print(f\"Best Configuration: Units={best_units}, Activation={best_activation}, Accuracy={best_accuracy}\")"
      ],
      "metadata": {
        "colab": {
          "base_uri": "https://localhost:8080/"
        },
        "id": "IxgoE6Xg9P05",
        "outputId": "950eba9d-6ed2-4722-8570-dbec305d294f"
      },
      "execution_count": 30,
      "outputs": [
        {
          "output_type": "stream",
          "name": "stdout",
          "text": [
            "Units: 6, Activation: relu, Accuracy: 0.9150000214576721, Time: 6.011020183563232 ms\n",
            "Units: 6, Activation: softmax, Accuracy: 0.9150000214576721, Time: 11.382629156112671 ms\n",
            "Units: 6, Activation: tanh, Accuracy: 0.9200000166893005, Time: 5.9556801319122314 ms\n",
            "Units: 6, Activation: softplus, Accuracy: 0.9125000238418579, Time: 11.369725704193115 ms\n",
            "Units: 6, Activation: sigmoid, Accuracy: 0.8999999761581421, Time: 6.739586114883423 ms\n",
            "Units: 12, Activation: relu, Accuracy: 0.9325000047683716, Time: 6.201934337615967 ms\n",
            "Units: 12, Activation: softmax, Accuracy: 0.9175000190734863, Time: 5.902160167694092 ms\n",
            "Units: 12, Activation: tanh, Accuracy: 0.9275000095367432, Time: 6.268803358078003 ms\n",
            "Units: 12, Activation: softplus, Accuracy: 0.9175000190734863, Time: 5.238459825515747 ms\n",
            "Units: 12, Activation: sigmoid, Accuracy: 0.9175000190734863, Time: 11.030265808105469 ms\n",
            "Best Configuration: Units=12, Activation=relu, Accuracy=0.9325000047683716\n"
          ]
        }
      ]
    },
    {
      "cell_type": "markdown",
      "source": [
        "### Implementing the most optimal solution"
      ],
      "metadata": {
        "id": "MpohBlxnUlbq"
      }
    },
    {
      "cell_type": "code",
      "source": [],
      "metadata": {
        "id": "Q7OLO6PvUkUO"
      },
      "execution_count": null,
      "outputs": []
    }
  ]
}